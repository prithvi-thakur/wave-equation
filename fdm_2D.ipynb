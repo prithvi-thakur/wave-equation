{
 "cells": [
  {
   "cell_type": "markdown",
   "metadata": {},
   "source": [
    "<center><h1> 2D Wave Equation: Finite Difference Method"
   ]
  },
  {
   "cell_type": "code",
   "execution_count": 2,
   "metadata": {},
   "outputs": [],
   "source": [
    "import numpy as np\n",
    "import matplotlib.pyplot as plt\n",
    "from matplotlib import animation, rc\n",
    "from IPython.display import HTML\n",
    "%config InlineBackend.figure_format = 'retina'"
   ]
  },
  {
   "cell_type": "markdown",
   "metadata": {},
   "source": [
    "<h3> Parameters"
   ]
  },
  {
   "cell_type": "code",
   "execution_count": 6,
   "metadata": {},
   "outputs": [],
   "source": [
    "# Space parameters\n",
    "Lx = 10       # x-dimension\n",
    "Ly = 10       # y-dimension\n",
    "dxe = 1       # length of one element\n",
    "dye = 1\n",
    "Nx = int(Lx/dxe) # number of x-elements (integer)\n",
    "Ny = int(Ly/dye) # number of y-elements\n",
    "Nel = Nx*Ny      # total number of elements\n",
    "\n",
    "# Time parameters\n",
    "T = 10         # total time\n",
    "dt = 1      # timestep\n",
    "Nt = int(T/dt) # number of timesteps (integer)\n",
    "\n",
    "# Courant Stability\n",
    "C = 1          # c dt/dx; c = wave speed"
   ]
  },
  {
   "cell_type": "markdown",
   "metadata": {},
   "source": [
    "<h3> Meshing"
   ]
  },
  {
   "cell_type": "code",
   "execution_count": 7,
   "metadata": {},
   "outputs": [],
   "source": [
    "xmesh = np.linspace(0, Lx, Nx)    # x-discretization\n",
    "ymesh = np.linspace(0, Ly, Ny)    # y-discretization\n",
    "tmesh = np.linspace(0, T, Nt)     # t-discretization"
   ]
  },
  {
   "cell_type": "markdown",
   "metadata": {},
   "source": [
    "<h3> Objective function: displacement"
   ]
  },
  {
   "cell_type": "code",
   "execution_count": 8,
   "metadata": {},
   "outputs": [],
   "source": [
    "u = np.zeros((Nx, Ny, Nt))"
   ]
  },
  {
   "cell_type": "markdown",
   "metadata": {},
   "source": [
    "<center> Work in progress! Check Later </center>"
   ]
  },
  {
   "cell_type": "code",
   "execution_count": null,
   "metadata": {},
   "outputs": [],
   "source": []
  }
 ],
 "metadata": {
  "kernelspec": {
   "display_name": "Python 3",
   "language": "python",
   "name": "python3"
  },
  "language_info": {
   "codemirror_mode": {
    "name": "ipython",
    "version": 3
   },
   "file_extension": ".py",
   "mimetype": "text/x-python",
   "name": "python",
   "nbconvert_exporter": "python",
   "pygments_lexer": "ipython3",
   "version": "3.6.2"
  }
 },
 "nbformat": 4,
 "nbformat_minor": 2
}
